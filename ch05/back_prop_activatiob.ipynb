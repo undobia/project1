{
 "cells": [
  {
   "cell_type": "code",
   "id": "initial_id",
   "metadata": {
    "collapsed": true,
    "ExecuteTime": {
     "end_time": "2024-10-19T03:41:06.333983Z",
     "start_time": "2024-10-19T03:41:06.331343Z"
    }
   },
   "source": "import numpy as np",
   "outputs": [],
   "execution_count": 2
  },
  {
   "metadata": {},
   "cell_type": "markdown",
   "source": [
    "## 5.5 활성화 함수 계층 구현하기\n",
    "\n",
    "### 5.5.1 ReLU 계층"
   ],
   "id": "ddf4c53a4c34300e"
  },
  {
   "metadata": {
    "ExecuteTime": {
     "end_time": "2024-10-19T03:41:55.529416Z",
     "start_time": "2024-10-19T03:41:55.526339Z"
    }
   },
   "cell_type": "code",
   "source": [
    "# common/layers.py\n",
    "class Relu:\n",
    "    def __init__(self):\n",
    "        self.mask = None\n",
    "\n",
    "    def forward(self, x):\n",
    "        self.mask = (x <= 0) # x가 0 이하인 위치를 True로 기록\n",
    "        out = x.copy() # 입력값을 복사\n",
    "        out[self.mask] = 0 # mask가 True인 곳(즉, 0 이하인 값)을 0으로 변경\n",
    "\n",
    "        return out # 수정된 출력을 반환\n",
    "\n",
    "    def backward(self, dout):\n",
    "        dout[self.mask] = 0\n",
    "        dx = dout\n",
    "\n",
    "        return dx"
   ],
   "id": "d051994bdde98f35",
   "outputs": [],
   "execution_count": 3
  },
  {
   "metadata": {
    "ExecuteTime": {
     "end_time": "2024-10-19T03:42:07.921727Z",
     "start_time": "2024-10-19T03:42:07.918144Z"
    }
   },
   "cell_type": "code",
   "source": [
    "x = np.array([[1.0, -0.5], [-2.0, 3.0]])\n",
    "x   #array 출력"
   ],
   "id": "ccb6b8c2405056d1",
   "outputs": [
    {
     "data": {
      "text/plain": [
       "array([[ 1. , -0.5],\n",
       "       [-2. ,  3. ]])"
      ]
     },
     "execution_count": 6,
     "metadata": {},
     "output_type": "execute_result"
    }
   ],
   "execution_count": 6
  },
  {
   "metadata": {
    "ExecuteTime": {
     "end_time": "2024-10-19T04:15:11.013773Z",
     "start_time": "2024-10-19T04:15:11.009316Z"
    }
   },
   "cell_type": "code",
   "source": [
    "relu = Relu()   #Relu 통과, 인스턴스 생성\n",
    "y = relu.forward(x) #순전파\n",
    "y"
   ],
   "id": "b92e9d7f345583bf",
   "outputs": [
    {
     "data": {
      "text/plain": [
       "array([[1., 0.],\n",
       "       [0., 3.]])"
      ]
     },
     "execution_count": 8,
     "metadata": {},
     "output_type": "execute_result"
    }
   ],
   "execution_count": 8
  },
  {
   "metadata": {
    "ExecuteTime": {
     "end_time": "2024-10-19T04:32:35.793092Z",
     "start_time": "2024-10-19T04:32:35.789061Z"
    }
   },
   "cell_type": "code",
   "source": "relu.mask",
   "id": "41e1c141b2f22ecc",
   "outputs": [
    {
     "data": {
      "text/plain": [
       "array([[False,  True],\n",
       "       [ True, False]])"
      ]
     },
     "execution_count": 9,
     "metadata": {},
     "output_type": "execute_result"
    }
   ],
   "execution_count": 9
  },
  {
   "metadata": {
    "ExecuteTime": {
     "end_time": "2024-10-19T04:32:44.052364Z",
     "start_time": "2024-10-19T04:32:44.048096Z"
    }
   },
   "cell_type": "code",
   "source": "relu.backward(np.ones((2,2)))",
   "id": "bdb4b67e2496de74",
   "outputs": [
    {
     "data": {
      "text/plain": [
       "array([[1., 0.],\n",
       "       [0., 1.]])"
      ]
     },
     "execution_count": 10,
     "metadata": {},
     "output_type": "execute_result"
    }
   ],
   "execution_count": 10
  },
  {
   "metadata": {},
   "cell_type": "markdown",
   "source": "## 5.5.2 Sigmoid 계층\n",
   "id": "a5378b104e7c694a"
  },
  {
   "metadata": {
    "ExecuteTime": {
     "end_time": "2024-10-19T04:33:08.044768Z",
     "start_time": "2024-10-19T04:33:08.042246Z"
    }
   },
   "cell_type": "code",
   "source": [
    "# common/layers.py\n",
    "class Sigmoid:\n",
    "    def __init__(self):\n",
    "        self.out = None\n",
    "\n",
    "    def forward(self, x):\n",
    "        def sigmoid(x):\n",
    "            return 1 / (1 + np.exp(-x))    \n",
    "        out = sigmoid(x)\n",
    "        self.out = out\n",
    "        return out\n",
    "\n",
    "    def backward(self, dout):\n",
    "        dx = dout * (1.0 - self.out) * self.out #(1-y)*y\n",
    "\n",
    "        return dx"
   ],
   "id": "cea289898987178a",
   "outputs": [],
   "execution_count": 11
  },
  {
   "metadata": {
    "ExecuteTime": {
     "end_time": "2024-10-19T04:33:55.147512Z",
     "start_time": "2024-10-19T04:33:55.143292Z"
    }
   },
   "cell_type": "code",
   "source": [
    "x = np.array([[1.0, -0.5], [-2.0, 3.0]])\n",
    "x"
   ],
   "id": "2e998443519c5e8c",
   "outputs": [
    {
     "data": {
      "text/plain": [
       "array([[ 1. , -0.5],\n",
       "       [-2. ,  3. ]])"
      ]
     },
     "execution_count": 12,
     "metadata": {},
     "output_type": "execute_result"
    }
   ],
   "execution_count": 12
  },
  {
   "metadata": {
    "ExecuteTime": {
     "end_time": "2024-10-19T04:36:12.878560Z",
     "start_time": "2024-10-19T04:36:12.874423Z"
    }
   },
   "cell_type": "code",
   "source": [
    "sigmoid = Sigmoid()\n",
    "y = sigmoid.forward(x)\n",
    "y"
   ],
   "id": "b5c1220cb8d55349",
   "outputs": [
    {
     "data": {
      "text/plain": [
       "array([[0.73105858, 0.37754067],\n",
       "       [0.11920292, 0.95257413]])"
      ]
     },
     "execution_count": 13,
     "metadata": {},
     "output_type": "execute_result"
    }
   ],
   "execution_count": 13
  },
  {
   "metadata": {
    "ExecuteTime": {
     "end_time": "2024-10-19T04:37:13.672534Z",
     "start_time": "2024-10-19T04:37:13.669141Z"
    }
   },
   "cell_type": "code",
   "source": "sigmoid.backward(1)",
   "id": "6ca01409a3f8c0b8",
   "outputs": [
    {
     "data": {
      "text/plain": [
       "array([[0.19661193, 0.23500371],\n",
       "       [0.10499359, 0.04517666]])"
      ]
     },
     "execution_count": 14,
     "metadata": {},
     "output_type": "execute_result"
    }
   ],
   "execution_count": 14
  }
 ],
 "metadata": {
  "kernelspec": {
   "display_name": "Python 3",
   "language": "python",
   "name": "python3"
  },
  "language_info": {
   "codemirror_mode": {
    "name": "ipython",
    "version": 2
   },
   "file_extension": ".py",
   "mimetype": "text/x-python",
   "name": "python",
   "nbconvert_exporter": "python",
   "pygments_lexer": "ipython2",
   "version": "2.7.6"
  }
 },
 "nbformat": 4,
 "nbformat_minor": 5
}
